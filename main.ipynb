{
 "cells": [
  {
   "metadata": {
    "ExecuteTime": {
     "end_time": "2025-01-15T09:58:37.204970Z",
     "start_time": "2025-01-15T09:58:34.637370Z"
    }
   },
   "cell_type": "code",
   "source": [
    "from fetch_spam_data import fetch_spam_data\n",
    "\n",
    "ham_dir, spam_dir = fetch_spam_data()"
   ],
   "id": "377cbc17253d1c4",
   "outputs": [
    {
     "name": "stdout",
     "output_type": "stream",
     "text": [
      "Downloading ham to datasets\\spam\\ham.tar.bz2\n",
      "Downloading spam to datasets\\spam\\spam.tar.bz2\n"
     ]
    }
   ],
   "execution_count": 3
  },
  {
   "metadata": {},
   "cell_type": "code",
   "outputs": [],
   "execution_count": null,
   "source": "",
   "id": "ee6558fd79cc633c"
  }
 ],
 "metadata": {
  "kernelspec": {
   "display_name": "Python 3",
   "language": "python",
   "name": "python3"
  },
  "language_info": {
   "codemirror_mode": {
    "name": "ipython",
    "version": 2
   },
   "file_extension": ".py",
   "mimetype": "text/x-python",
   "name": "python",
   "nbconvert_exporter": "python",
   "pygments_lexer": "ipython2",
   "version": "2.7.6"
  }
 },
 "nbformat": 4,
 "nbformat_minor": 5
}
